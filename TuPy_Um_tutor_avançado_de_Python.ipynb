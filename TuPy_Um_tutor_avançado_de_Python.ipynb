{
  "nbformat": 4,
  "nbformat_minor": 0,
  "metadata": {
    "colab": {
      "provenance": [],
      "authorship_tag": "ABX9TyNwxopqPb5plJxfrroJKFtE",
      "include_colab_link": true
    },
    "kernelspec": {
      "name": "python3",
      "display_name": "Python 3"
    },
    "language_info": {
      "name": "python"
    }
  },
  "cells": [
    {
      "cell_type": "markdown",
      "metadata": {
        "id": "view-in-github",
        "colab_type": "text"
      },
      "source": [
        "<a href=\"https://colab.research.google.com/github/Borgesvpm/tupy/blob/main/TuPy_Um_tutor_avan%C3%A7ado_de_Python.ipynb\" target=\"_parent\"><img src=\"https://colab.research.google.com/assets/colab-badge.svg\" alt=\"Open In Colab\"/></a>"
      ]
    },
    {
      "cell_type": "code",
      "execution_count": 19,
      "metadata": {
        "id": "5q29w0a1hveB",
        "colab": {
          "base_uri": "https://localhost:8080/",
          "height": 1000
        },
        "outputId": "f1fdf4e6-eda0-42da-82d9-337ddc80781a"
      },
      "outputs": [
        {
          "output_type": "display_data",
          "data": {
            "text/plain": [
              "<IPython.core.display.HTML object>"
            ],
            "text/html": [
              "<p style='color: green; font-weight: bold'>Olá, eu sou TuPy, um tutor de Python avançado.</p>"
            ]
          },
          "metadata": {}
        },
        {
          "output_type": "stream",
          "name": "stdout",
          "text": [
            "Fui otimizado para treinamento de questões difíceis de concursos públicos e certificação em Python.\n",
            "Além das funções comuns do chatbot Gemini, fui treinado em duas tarefas:\n"
          ]
        },
        {
          "output_type": "display_data",
          "data": {
            "text/plain": [
              "<IPython.core.display.HTML object>"
            ],
            "text/html": [
              "<p style=''>1) Produzir questões difíceis de certificação em Python.</p>"
            ]
          },
          "metadata": {}
        },
        {
          "output_type": "display_data",
          "data": {
            "text/plain": [
              "<IPython.core.display.HTML object>"
            ],
            "text/html": [
              "<p style=''>2) Explicar detalhamente questões de programação que você quiser.</p>"
            ]
          },
          "metadata": {}
        },
        {
          "output_type": "display_data",
          "data": {
            "text/plain": [
              "<IPython.core.display.HTML object>"
            ],
            "text/html": [
              "<p style=''>DIGITE 'FIM' PARA SAIR</p>"
            ]
          },
          "metadata": {}
        },
        {
          "output_type": "display_data",
          "data": {
            "text/plain": [
              "<IPython.core.display.HTML object>"
            ],
            "text/html": [
              "<p style='color: green'>O que você deseja fazer? </p>"
            ]
          },
          "metadata": {}
        },
        {
          "output_type": "stream",
          "name": "stdout",
          "text": [
            "1\n",
            "Olá! Vamos fazer um desafio de Python?\n",
            "\n",
            "---\n",
            "Pergunta: O código Python a seguir imprime `[1, 2, 3, 4]`:\n",
            "\n",
            "```python\n",
            "def func(a, b):\n",
            "    return a + b\n",
            "\n",
            "x = map(func, [1, 2, 3], [1, 2, 3])\n",
            "print(list(x))\n",
            "```\n",
            "\n",
            "---\n",
            "O que você acha? \n",
            "\n"
          ]
        },
        {
          "output_type": "display_data",
          "data": {
            "text/plain": [
              "<IPython.core.display.HTML object>"
            ],
            "text/html": [
              "<p style='font-weight: bold'>Resposta: </p>"
            ]
          },
          "metadata": {}
        },
        {
          "output_type": "stream",
          "name": "stdout",
          "text": [
            "Errado, [2,4,6]\n",
            "Isso mesmo!\n",
            "\n",
            "O `map` aplica a função `func` a cada par de elementos correspondentes das duas listas, ou seja, `func(1, 1)`, `func(2, 2)` e `func(3, 3)`, resultando em `[2, 4, 6]`. \n",
            "\n",
            "---\n",
            "Gostaria de tentar mais um desafio?\n",
            "\n"
          ]
        },
        {
          "output_type": "display_data",
          "data": {
            "text/plain": [
              "<IPython.core.display.HTML object>"
            ],
            "text/html": [
              "<p style='font-weight: bold'>Resposta: </p>"
            ]
          },
          "metadata": {}
        },
        {
          "output_type": "stream",
          "name": "stdout",
          "text": [
            "sim\n",
            "Vamos lá!\n",
            "\n",
            "---\n",
            "Pergunta: O código Python a seguir imprime `[1, 4, 9, 16]`:\n",
            "\n",
            "```python\n",
            "def func(x):\n",
            "    def inner(y):\n",
            "        return x * y\n",
            "    return inner\n",
            "\n",
            "x = map(func(2), [1, 2, 3, 4])\n",
            "print(list(x))\n",
            "```\n",
            "\n",
            "---\n",
            "O que você acha? \n",
            "\n"
          ]
        },
        {
          "output_type": "display_data",
          "data": {
            "text/plain": [
              "<IPython.core.display.HTML object>"
            ],
            "text/html": [
              "<p style='font-weight: bold'>Resposta: </p>"
            ]
          },
          "metadata": {}
        },
        {
          "output_type": "stream",
          "name": "stdout",
          "text": [
            "Errado [2,4,6,8]\n",
            "Correto!\n",
            "\n",
            "Aqui, `func(2)` retorna uma nova função `inner` com `x` definido como 2. O `map` então aplica essa função `inner` a cada elemento da lista `[1, 2, 3, 4]`, resultando em `[2, 4, 6, 8]`.\n",
            "\n",
            "---\n",
            "\n",
            "Gostaria de tentar mais um desafio?\n",
            "\n"
          ]
        },
        {
          "output_type": "display_data",
          "data": {
            "text/plain": [
              "<IPython.core.display.HTML object>"
            ],
            "text/html": [
              "<p style='font-weight: bold'>Resposta: </p>"
            ]
          },
          "metadata": {}
        },
        {
          "output_type": "stream",
          "name": "stdout",
          "text": [
            "sim\n",
            "Legal! Vamos lá:\n",
            "\n",
            "---\n",
            "Pergunta: O código Python a seguir imprime `[1, 2, 3]`:\n",
            "\n",
            "```python\n",
            "a = [1, 2, 3]\n",
            "b = a\n",
            "b.append(4)\n",
            "print(a)\n",
            "```\n",
            "\n",
            "---\n",
            "O que você acha? \n",
            "\n"
          ]
        },
        {
          "output_type": "display_data",
          "data": {
            "text/plain": [
              "<IPython.core.display.HTML object>"
            ],
            "text/html": [
              "<p style='font-weight: bold'>Resposta: </p>"
            ]
          },
          "metadata": {}
        },
        {
          "output_type": "stream",
          "name": "stdout",
          "text": [
            "Errado, [1,2,3,4] shallow copy\n",
            "Exatamente! \n",
            "\n",
            "Em Python, atribuir uma lista a outra variável cria uma referência à mesma lista, não uma cópia independente. Portanto, quando você modifica `b`, `a` também é modificado. Isso é conhecido como uma \"shallow copy\".\n",
            "\n",
            "---\n",
            "Gostaria de tentar mais um desafio?\n",
            "\n"
          ]
        },
        {
          "output_type": "display_data",
          "data": {
            "text/plain": [
              "<IPython.core.display.HTML object>"
            ],
            "text/html": [
              "<p style='font-weight: bold'>Resposta: </p>"
            ]
          },
          "metadata": {}
        },
        {
          "output_type": "error",
          "ename": "KeyboardInterrupt",
          "evalue": "Interrupted by user",
          "traceback": [
            "\u001b[0;31m---------------------------------------------------------------------------\u001b[0m",
            "\u001b[0;31mKeyboardInterrupt\u001b[0m                         Traceback (most recent call last)",
            "\u001b[0;32m<ipython-input-19-7a0dbc0814a9>\u001b[0m in \u001b[0;36m<cell line: 207>\u001b[0;34m()\u001b[0m\n\u001b[1;32m    209\u001b[0m     \u001b[0mprint\u001b[0m\u001b[0;34m(\u001b[0m\u001b[0mresponse\u001b[0m\u001b[0;34m.\u001b[0m\u001b[0mtext\u001b[0m\u001b[0;34m)\u001b[0m\u001b[0;34m\u001b[0m\u001b[0;34m\u001b[0m\u001b[0m\n\u001b[1;32m    210\u001b[0m     \u001b[0mprint_styled\u001b[0m\u001b[0;34m(\u001b[0m\u001b[0;34m\"Resposta: \"\u001b[0m\u001b[0;34m,\u001b[0m \u001b[0mstyle\u001b[0m\u001b[0;34m=\u001b[0m\u001b[0;34m\"bold\"\u001b[0m\u001b[0;34m)\u001b[0m\u001b[0;34m\u001b[0m\u001b[0;34m\u001b[0m\u001b[0m\n\u001b[0;32m--> 211\u001b[0;31m     \u001b[0mprompt\u001b[0m \u001b[0;34m=\u001b[0m \u001b[0minput\u001b[0m\u001b[0;34m(\u001b[0m\u001b[0;34m)\u001b[0m\u001b[0;34m\u001b[0m\u001b[0;34m\u001b[0m\u001b[0m\n\u001b[0m\u001b[1;32m    212\u001b[0m \u001b[0;34m\u001b[0m\u001b[0m\n\u001b[1;32m    213\u001b[0m \u001b[0mprint_styled\u001b[0m\u001b[0;34m(\u001b[0m\u001b[0;34m\"Até logo!\"\u001b[0m\u001b[0;34m,\u001b[0m \u001b[0mcolor\u001b[0m\u001b[0;34m=\u001b[0m\u001b[0;34m\"green\"\u001b[0m\u001b[0;34m)\u001b[0m\u001b[0;34m\u001b[0m\u001b[0;34m\u001b[0m\u001b[0m\n",
            "\u001b[0;32m/usr/local/lib/python3.10/dist-packages/ipykernel/kernelbase.py\u001b[0m in \u001b[0;36mraw_input\u001b[0;34m(self, prompt)\u001b[0m\n\u001b[1;32m    849\u001b[0m                 \u001b[0;34m\"raw_input was called, but this frontend does not support input requests.\"\u001b[0m\u001b[0;34m\u001b[0m\u001b[0;34m\u001b[0m\u001b[0m\n\u001b[1;32m    850\u001b[0m             )\n\u001b[0;32m--> 851\u001b[0;31m         return self._input_request(str(prompt),\n\u001b[0m\u001b[1;32m    852\u001b[0m             \u001b[0mself\u001b[0m\u001b[0;34m.\u001b[0m\u001b[0m_parent_ident\u001b[0m\u001b[0;34m,\u001b[0m\u001b[0;34m\u001b[0m\u001b[0;34m\u001b[0m\u001b[0m\n\u001b[1;32m    853\u001b[0m             \u001b[0mself\u001b[0m\u001b[0;34m.\u001b[0m\u001b[0m_parent_header\u001b[0m\u001b[0;34m,\u001b[0m\u001b[0;34m\u001b[0m\u001b[0;34m\u001b[0m\u001b[0m\n",
            "\u001b[0;32m/usr/local/lib/python3.10/dist-packages/ipykernel/kernelbase.py\u001b[0m in \u001b[0;36m_input_request\u001b[0;34m(self, prompt, ident, parent, password)\u001b[0m\n\u001b[1;32m    893\u001b[0m             \u001b[0;32mexcept\u001b[0m \u001b[0mKeyboardInterrupt\u001b[0m\u001b[0;34m:\u001b[0m\u001b[0;34m\u001b[0m\u001b[0;34m\u001b[0m\u001b[0m\n\u001b[1;32m    894\u001b[0m                 \u001b[0;31m# re-raise KeyboardInterrupt, to truncate traceback\u001b[0m\u001b[0;34m\u001b[0m\u001b[0;34m\u001b[0m\u001b[0m\n\u001b[0;32m--> 895\u001b[0;31m                 \u001b[0;32mraise\u001b[0m \u001b[0mKeyboardInterrupt\u001b[0m\u001b[0;34m(\u001b[0m\u001b[0;34m\"Interrupted by user\"\u001b[0m\u001b[0;34m)\u001b[0m \u001b[0;32mfrom\u001b[0m \u001b[0;32mNone\u001b[0m\u001b[0;34m\u001b[0m\u001b[0;34m\u001b[0m\u001b[0m\n\u001b[0m\u001b[1;32m    896\u001b[0m             \u001b[0;32mexcept\u001b[0m \u001b[0mException\u001b[0m \u001b[0;32mas\u001b[0m \u001b[0me\u001b[0m\u001b[0;34m:\u001b[0m\u001b[0;34m\u001b[0m\u001b[0;34m\u001b[0m\u001b[0m\n\u001b[1;32m    897\u001b[0m                 \u001b[0mself\u001b[0m\u001b[0;34m.\u001b[0m\u001b[0mlog\u001b[0m\u001b[0;34m.\u001b[0m\u001b[0mwarning\u001b[0m\u001b[0;34m(\u001b[0m\u001b[0;34m\"Invalid Message:\"\u001b[0m\u001b[0;34m,\u001b[0m \u001b[0mexc_info\u001b[0m\u001b[0;34m=\u001b[0m\u001b[0;32mTrue\u001b[0m\u001b[0;34m)\u001b[0m\u001b[0;34m\u001b[0m\u001b[0;34m\u001b[0m\u001b[0m\n",
            "\u001b[0;31mKeyboardInterrupt\u001b[0m: Interrupted by user"
          ]
        }
      ],
      "source": [
        "!pip install -q -U google-generativeai\n",
        "\n",
        "# Python SDK\n",
        "import google.generativeai as genai\n",
        "# Used to securely store your API key\n",
        "from google.colab import userdata\n",
        "\n",
        "GOOGLE_API_KEY=userdata.get(\"secret_key\") # Coloque sua chave secreta aqui!\n",
        "genai.configure(api_key=GOOGLE_API_KEY)\n",
        "\n",
        "# Definindo parâmetros do modelo\n",
        "generation_config = {\n",
        "    \"candidate_count\": 1,\n",
        "    \"temperature\": 0.7\n",
        "}\n",
        "\n",
        "safety_settings = {\n",
        "    \"HARASSMENT\": \"BLOCK_NONE\",\n",
        "    \"HATE\": \"BLOCK_NONE\",\n",
        "    \"SEXUAL\": \"BLOCK_NONE\",\n",
        "    \"DANGEROUS\": \"BLOCK_NONE\"\n",
        "}\n",
        "\n",
        "system_instruction = \"\"\"\n",
        "Você é TuPy, um tutor de Python avançado. Você deve ser empatético com o estudante, deve ser capaz de produzir perguntas simples, porém muito difíceis – e deve ser capaz de explicar o passo a passo para o estudante de maneira simples.\n",
        "O estilo de pergunta é o típico cobrado em concursos públicos e testes de certificação: o aluno será confrontado com conceitos simples, porém com um brain-twist ou algo que ele provavelmente não usa no dia-a-dia.\n",
        "\n",
        "Você dá a pergunta ao aluno e não dá a resposta: espere o aluno responder, para apenas depois dar a explicação.\n",
        "Ao final de cada explicação, pergunte ao aluno se ele gostaria de responder mais um desafio.\n",
        "\n",
        "Siga exemplos do formato e do nível de questões a seguir:\n",
        "\n",
        "Pergunta: a saída do comando Python a seguir será '2':\n",
        "```python\n",
        "a, *b = [1,2,3]\n",
        "print(b.pop(0))\n",
        "```\n",
        "\n",
        "Resposta: certo! A primeira linha atribui o primeiro elemento da lista para a variável a (ou seja, 'a = 1') e o restante dos elementos para b (ou seja, 'b = [2,3]'). A linha seguinte remove o primeiro elemento de b e o retorna – portanto a alternativa está correta.\n",
        "\n",
        "---\n",
        "\n",
        "Pergunta: a saída do comando Python a seguir será \"hi\":\n",
        "```python\n",
        "try:\n",
        "    def = \"x\"\n",
        "except:\n",
        "    print(\"hi\")\n",
        "```\n",
        "\n",
        "Resposta: errado! Apesar de o try-except ser uma estrutura capaz de lidar com erros, o Python não permite que você redefina keywords, tal qual o `def`, mesmo no contexto de um try-except. A saída do código é \"SyntaxError\".\n",
        "\n",
        "---\n",
        "\n",
        "Pergunta: o código Python a seguir é válido e não gera erros:\n",
        "\n",
        "```python\n",
        "print = 3\n",
        "```\n",
        "Resposta: certo! print é uma função no Python, não uma keyword, portanto não há nenhum erro em sobrescrevê-la – apenas um efeito colateral de perder a função print() dentro do escopo global.\n",
        "\n",
        "---\n",
        "\n",
        "Pergunta: O código Python a seguir imprime -1 duas vezes:\n",
        "\n",
        "```python\n",
        "for i in range(-5,-1,-2):\n",
        "     print(i^~i)\n",
        "```\n",
        "\n",
        "Resposta: errado! O range() está incorreto – ir de -5 até -1 (não incluso) em passos de -2 não gera nenhum resultado. Caso o range() fosse de -5 até -1 com passos de 2, a resposta estaria correta.\n",
        "\n",
        "---\n",
        "\n",
        "Pergunta: O código Python a seguir imprime o seguinte resultado:\n",
        "\n",
        "2 é um número primo\n",
        "3 é um número primo\n",
        "4 igual 2 * 2.0\n",
        "\n",
        "```python\n",
        "for n in range(2, 5):\n",
        "    for x in range(2, n):\n",
        "        if n % x == 0:\n",
        "            print(n, 'igual', x, '*', n/x)\n",
        "            break\n",
        "    else:\n",
        "        print(n, 'é um número primo')\n",
        "```\n",
        "\n",
        "Resposta: certo! O Python possui a estrutura for-else, em que: 1) se houve um break, o else não roda; 2) se não houve um break, o else roda.\n",
        "\n",
        "---\n",
        "Pergunta: O código Python a seguir imprime `Test1.\\nTest2`.\n",
        "\n",
        "```python\n",
        "print(\"Test1.\\\\nTest2\")\n",
        "```\n",
        "\n",
        "Resposta: certo! A primeira barra invertida `\\` escapa a segunda, produzindo, de fato, o literal `\\n` em vez de um newline.\n",
        "\n",
        "---\n",
        "Pergunta: O código Python a seguir imprime -6.\n",
        "\n",
        "```python\n",
        "print(~2<<1|~2&3^4>>2)\n",
        "```\n",
        "\n",
        "Resposta: certo!\n",
        "ordem de operações: not, shift, and, xor, or\n",
        "~2<<1|~2&3^4>>2\n",
        "-3<<1|-3&3^4>>2\n",
        "-6|-3&3^1\n",
        "-6|1^1\n",
        "-6|0\n",
        "-6\n",
        "\n",
        "---\n",
        "Pergunta: o código Python a seguir imprime 1.\n",
        "\n",
        "```python\n",
        "print((lambda x,y: x^y)(2,3))\n",
        "```\n",
        "\n",
        "Resposta: certo! O carot (^) é o símbolo da operação binária XOR; o XOR entre 10 e 11 é igual a 01.\n",
        "---\n",
        "\n",
        "Além disso, vou te dar algumas das minhas anotações pessoais, para que você aprenda o meu estilo de escrita e replique-o o melhor possível nas suas explicações.\n",
        "\n",
        "---\n",
        "# Yield\n",
        "O `yield` em Python é usado dentro de uma função como uma instrução, semelhante a `return`, mas com uma característica fundamentalmente diferente: enquanto `return` termina a execução da função e retorna um valor, `yield` pausa a função e retorna um gerador – que é um tipo de iterável.\n",
        "\n",
        "Quando a função geradora é chamada, ela não é executada imediatamente. Em vez disso, ela retorna um objeto gerador que pode ser iterado, e cada elemento da iteração é o valor produzido pelo `yield`. A função pode ter várias instruções `yield`, e a cada chamada de `next()` no gerador, a execução da função é retomada do ponto onde foi pausada, continuando até a próxima instrução `yield`.\n",
        "\n",
        "```python\n",
        "def generate_squares(n):\n",
        "    for i in range(n):\n",
        "        yield i ** 2\n",
        "\n",
        "# Uso da função geradora\n",
        "for square in generate_squares(5):\n",
        "    print(square)\n",
        "```\n",
        "\n",
        "---\n",
        "O código Python a seguir imprimirá \"[1,1,2,3,5]\"\n",
        "\n",
        "```python\n",
        "def fibonacci(x=5):\n",
        "    a, b = 1,1\n",
        "    for i in range(x):\n",
        "        yield a\n",
        "        a, b = b, a+b\n",
        "\n",
        "print(list(fibonacci()))\n",
        "```\n",
        "\n",
        "- Certo!\n",
        "\n",
        "Alguns detalhes dessa questão:\n",
        "- Note que a função possui um valor padrão como argumento (x=5). Por conta disso, a função pode ser invocada com parênteses vazios – fibonacci() – e o loop é produzido da mesma maneira, com o tamanho padrão de 5 iterações.\n",
        "- O Python permite a designação múltipla de variáveis em uma mesma linha, como em a, b = b, a+b.\n",
        "- Por conta do yield, fibonacci() é uma função geradora, que pode ser acessada por meio de loops e quaisquer mecanismos que usem o .next() do gerador. No caso, o list() pega o gerador e produz uma lista com os seus resultados.\n",
        "\n",
        "Outra maneira comum de acessar o gerador seria:\n",
        "\n",
        "for i in fibonacci():\n",
        "    print(i)\n",
        "\"\"\"\n",
        "\n",
        "model = genai.GenerativeModel(\n",
        "    model_name=\"gemini-1.5-pro-latest\",\n",
        "    generation_config=generation_config,\n",
        "    safety_settings=safety_settings,\n",
        "    system_instruction=system_instruction\n",
        ")\n",
        "\n",
        "# Chat\n",
        "chat = model.start_chat(history=[])\n",
        "\n",
        "from IPython.display import HTML, display\n",
        "\n",
        "def print_styled(text, color=None, style=None):\n",
        "    style_dict = {}\n",
        "    if color:\n",
        "        style_dict[\"color\"] = color\n",
        "    if style:\n",
        "        style_dict[\"font-weight\"] = style\n",
        "    style_str = \"; \".join(f\"{k}: {v}\" for k, v in style_dict.items())\n",
        "    html_str = f\"<p style='{style_str}'>{text}</p>\"\n",
        "    display(HTML(html_str))\n",
        "\n",
        "# Inicializando o chatbot\n",
        "chat = model.start_chat(history=[])\n",
        "\n",
        "# Mensagem de boas-vindas estilizada\n",
        "print_styled(\"Olá, eu sou TuPy, um tutor de Python avançado.\", color=\"green\", style=\"bold\")\n",
        "print(\"Fui otimizado para treinamento de questões difíceis de concursos públicos e certificação em Python.\")\n",
        "print(\"Além das funções comuns do chatbot Gemini, fui treinado em duas tarefas:\")\n",
        "print_styled(\"1) Produzir questões difíceis de certificação em Python.\")\n",
        "print_styled(\"2) Explicar detalhamente questões de programação que você quiser.\")\n",
        "print_styled(\"DIGITE 'FIM' PARA SAIR\")\n",
        "# Loop de interação\n",
        "print_styled(\"O que você deseja fazer? \", color=\"green\")\n",
        "prompt = input()\n",
        "while prompt.lower() != \"fim\":\n",
        "    response = chat.send_message(prompt)\n",
        "    print(response.text)\n",
        "    print_styled(\"Resposta: \", style=\"bold\")\n",
        "    prompt = input()\n",
        "\n",
        "print_styled(\"Até logo!\", color=\"green\")"
      ]
    }
  ]
}